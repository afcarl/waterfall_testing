{
 "cells": [
  {
   "cell_type": "code",
   "execution_count": 17,
   "metadata": {
    "collapsed": true
   },
   "outputs": [],
   "source": [
    "%matplotlib inline"
   ]
  },
  {
   "cell_type": "code",
   "execution_count": 18,
   "metadata": {
    "collapsed": true
   },
   "outputs": [],
   "source": [
    "#from waterfallcharts import quick_charts as qc\n",
    "from matplotlib.ticker import FuncFormatter\n",
    "import numpy as np\n",
    "import pandas as pd\n",
    "import matplotlib.pyplot as plt"
   ]
  },
  {
   "cell_type": "code",
   "execution_count": 56,
   "metadata": {
    "collapsed": true
   },
   "outputs": [],
   "source": [
    "def waterfall(index, data, Title = \"Example Chart\", x_lab = \"Example Increments\", DPI=200,\n",
    "              formatting = \"{:,.0f}\"):\n",
    "    \n",
    "    changes = {'amount' : data}\n",
    "    \n",
    "    def money(x, pos):\n",
    "        'The two args are the value and tick position'\n",
    "        return formatting.format(x)\n",
    "    formatter = FuncFormatter(money)\n",
    "\n",
    "    #Store data and create a blank series to use for the waterfall\n",
    "    trans = pd.DataFrame(data=changes,index=index)\n",
    "    blank = trans.amount.cumsum().shift(1).fillna(0)\n",
    "\n",
    "    #Get the net total number for the final element in the waterfall\n",
    "    total = trans.sum().amount\n",
    "    trans.loc[\"net\"]= total\n",
    "    blank.loc[\"net\"] = total\n",
    "\n",
    "    #The steps graphically show the levels as well as used for label placement\n",
    "    step = blank.reset_index(drop=True).repeat(3).shift(-1)\n",
    "    step[1::3] = np.nan\n",
    "\n",
    "    #When plotting the last element, we want to show the full bar,\n",
    "    #Set the blank to 0\n",
    "    blank.loc[\"net\"] = 0\n",
    "\n",
    "    #Plot and label\n",
    "    my_plot = trans.plot(kind='bar', stacked=True, bottom=blank,legend=None, figsize=(10, 5), title=Title)\n",
    "    #my_plot.plot(step.index, step.values,'k') #this makes the blank lines\n",
    "    my_plot.set_xlabel(x_lab)\n",
    "    \n",
    "    #Format the axis for dollars\n",
    "    my_plot.yaxis.set_major_formatter(formatter)\n",
    "\n",
    "    #Get the y-axis position for the labels\n",
    "    y_height = trans.amount.cumsum().shift(1).fillna(0)\n",
    "\n",
    "    #Get an offset so labels don't sit right on top of the bar\n",
    "    max = trans.max()\n",
    "    neg_offset = max / 25\n",
    "    pos_offset = max / 50\n",
    "    plot_offset = int(max / 15)\n",
    "\n",
    "    #Start label loop\n",
    "    loop = 0\n",
    "    for index, row in trans.iterrows():\n",
    "        # For the last item in the list, we don't want to double count\n",
    "        if row['amount'] == total:\n",
    "            y = y_height[loop]\n",
    "        else:\n",
    "            y = y_height[loop] + row['amount']\n",
    "        # Determine if we want a neg or pos offset\n",
    "        if row['amount'] > 0:\n",
    "            y += pos_offset\n",
    "        else:\n",
    "            y -= neg_offset\n",
    "        my_plot.annotate(formatting.format(row['amount']),(loop,y),ha=\"center\")\n",
    "        loop+=1\n",
    "\n",
    "    #Scale up the y axis so there is room for the labels\n",
    "    my_plot.set_ylim(0,blank.max()+int(plot_offset))\n",
    "    #Rotate the labels\n",
    "    my_plot.set_xticklabels(trans.index,rotation=0)\n",
    "    my_plot.get_figure().savefig(\"waterfall_%s.png\" % Title.replace(\" \", \"-\"),dpi=DPI,bbox_inches='tight')\n",
    "\n",
    "    return my_plot"
   ]
  },
  {
   "cell_type": "code",
   "execution_count": 57,
   "metadata": {},
   "outputs": [
    {
     "ename": "TypeError",
     "evalue": "waterfall() takes at least 2 arguments (0 given)",
     "output_type": "error",
     "traceback": [
      "\u001b[0;31m---------------------------------------------------------------------------\u001b[0m",
      "\u001b[0;31mTypeError\u001b[0m                                 Traceback (most recent call last)",
      "\u001b[0;32m<ipython-input-57-68085256d3e6>\u001b[0m in \u001b[0;36m<module>\u001b[0;34m()\u001b[0m\n\u001b[0;32m----> 1\u001b[0;31m \u001b[0mplot\u001b[0m \u001b[0;34m=\u001b[0m \u001b[0mwaterfall\u001b[0m\u001b[0;34m(\u001b[0m\u001b[0;34m)\u001b[0m\u001b[0;34m\u001b[0m\u001b[0m\n\u001b[0m",
      "\u001b[0;31mTypeError\u001b[0m: waterfall() takes at least 2 arguments (0 given)"
     ]
    }
   ],
   "source": [
    "plot = waterfall()"
   ]
  },
  {
   "cell_type": "code",
   "execution_count": 58,
   "metadata": {
    "collapsed": true
   },
   "outputs": [],
   "source": [
    "a = ['sales','returns','credit fees','rebates','late charges','shipping']\n",
    "b = [350000,-30000,-7500,-25000,95000,-7000]"
   ]
  },
  {
   "cell_type": "code",
   "execution_count": 60,
   "metadata": {},
   "outputs": [
    {
     "data": {
      "image/png": "[encoded data removed]",
      "text/plain": [
       "<matplotlib.figure.Figure at 0x121605c50>"
      ]
     },
     "metadata": {},
     "output_type": "display_data"
    }
   ],
   "source": [
    "plot = waterfall(a, b, formatting= \"{:,.0f} JPY\", DPI=600)"
   ]
  },
  {
   "cell_type": "code",
   "execution_count": 61,
   "metadata": {
    "collapsed": true
   },
   "outputs": [],
   "source": [
    "import matplotlib.patches as patches"
   ]
  },
  {
   "cell_type": "code",
   "execution_count": 81,
   "metadata": {},
   "outputs": [
    {
     "data": {
      "text/plain": [
       "<matplotlib.patches.Rectangle at 0x1197ae210>"
      ]
     },
     "execution_count": 81,
     "metadata": {},
     "output_type": "execute_result"
    },
    {
     "data": {
      "image/png": "[encoded data removed]",
      "text/plain": [
       "<matplotlib.figure.Figure at 0x129927890>"
      ]
     },
     "metadata": {},
     "output_type": "display_data"
    }
   ],
   "source": [
    "fig1 = plt.figure()\n",
    "#ax1 = fig1.add_subplot(111, aspect='equal')\n",
    "ax1 = fig1.add_subplot(1,1,1)\n",
    "ax1.add_patch(\n",
    "    patches.Rectangle(\n",
    "        (0.1, 0.1),   # (x,y)\n",
    "        0.5,          # width\n",
    "        0.5,          # height\n",
    "    )\n",
    ")"
   ]
  },
  {
   "cell_type": "code",
   "execution_count": 94,
   "metadata": {},
   "outputs": [
    {
     "data": {
      "text/plain": [
       "<Container object of 7 artists>"
      ]
     },
     "execution_count": 94,
     "metadata": {},
     "output_type": "execute_result"
    },
    {
     "data": {
      "image/png": "[encoded data removed]",
      "text/plain": [
       "<matplotlib.figure.Figure at 0x11e928bd0>"
      ]
     },
     "metadata": {},
     "output_type": "display_data"
    }
   ],
   "source": [
    "x = range(7)\n",
    "negative_data = [-1,-4,-3,-2,-6,-2,-4]\n",
    "positive_data = [10,-2,3,1,4,6,7,]\n",
    "\n",
    "fig = plt.figure()\n",
    "ax = plt.subplot(111)\n",
    "ax.bar(x, negative_data, width=0.6, color='b', hatch=\"//\")\n",
    "ax.bar(x, positive_data, width=0.6, color='b')"
   ]
  },
  {
   "cell_type": "code",
   "execution_count": 88,
   "metadata": {},
   "outputs": [
    {
     "data": {
      "text/plain": [
       "<Container object of 4 artists>"
      ]
     },
     "execution_count": 88,
     "metadata": {},
     "output_type": "execute_result"
    },
    {
     "data": {
      "image/png": "[encoded data removed]",
      "text/plain": [
       "<matplotlib.figure.Figure at 0x11e303810>"
      ]
     },
     "metadata": {},
     "output_type": "display_data"
    }
   ],
   "source": [
    "fig = plt.figure()\n",
    "ax1 = fig.add_subplot(131)\n",
    "ax1.bar(range(1, 5), range(1, 5), color='red', edgecolor='black', hatch=\"/\")\n",
    "ax1.bar(range(1, 5), [6] * 4, bottom=range(1, 5), color='blue', edgecolor='black', hatch='//')\n",
    "#ax1.set_xticks([1.5, 2.5, 3.5, 4.5])"
   ]
  },
  {
   "cell_type": "code",
   "execution_count": 96,
   "metadata": {},
   "outputs": [
    {
     "data": {
      "text/plain": [
       "<Container object of 7 artists>"
      ]
     },
     "execution_count": 96,
     "metadata": {},
     "output_type": "execute_result"
    },
    {
     "data": {
      "image/png": "[encoded data removed]",
      "text/plain": [
       "<matplotlib.figure.Figure at 0x11eb95b10>"
      ]
     },
     "metadata": {},
     "output_type": "display_data"
    }
   ],
   "source": [
    "x = range(7)\n",
    "negative_data = [0,5,-3,-2,-6,-2,-4]\n",
    "positive_data = [10,10,3,1,4,6,7,]\n",
    "\n",
    "fig = plt.figure()\n",
    "ax = plt.subplot(111)\n",
    "ax.bar(x, negative_data, width=0.6, color='b', hatch=\"//\")\n",
    "ax.bar(x, positive_data, width=0.6, color='b')"
   ]
  },
  {
   "cell_type": "code",
   "execution_count": null,
   "metadata": {
    "collapsed": true
   },
   "outputs": [],
   "source": []
  }
 ],
 "metadata": {
  "kernelspec": {
   "display_name": "Python 2",
   "language": "python",
   "name": "python2"
  },
  "language_info": {
   "codemirror_mode": {
    "name": "ipython",
    "version": 2
   },
   "file_extension": ".py",
   "mimetype": "text/x-python",
   "name": "python",
   "nbconvert_exporter": "python",
   "pygments_lexer": "ipython2",
   "version": "2.7.13"
  }
 },
 "nbformat": 4,
 "nbformat_minor": 2
}
