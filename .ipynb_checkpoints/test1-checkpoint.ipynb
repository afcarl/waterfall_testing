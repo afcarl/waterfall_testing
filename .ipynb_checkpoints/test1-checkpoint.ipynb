{
 "cells": [
  {
   "cell_type": "code",
   "execution_count": 1,
   "metadata": {
    "collapsed": true
   },
   "outputs": [],
   "source": [
    "%matplotlib inline"
   ]
  },
  {
   "cell_type": "code",
   "execution_count": 2,
   "metadata": {
    "collapsed": true
   },
   "outputs": [],
   "source": [
    "import numpy as np\n",
    "import pandas as pd\n",
    "import matplotlib.pyplot as plt"
   ]
  },
  {
   "cell_type": "code",
   "execution_count": 3,
   "metadata": {
    "collapsed": true
   },
   "outputs": [],
   "source": [
    "from matplotlib.ticker import FuncFormatter"
   ]
  },
  {
   "cell_type": "code",
   "execution_count": 132,
   "metadata": {
    "collapsed": true
   },
   "outputs": [],
   "source": [
    "def waterfall(index = ['sales','returns','credit fees','rebates','late charges','shipping'],\n",
    "              data = , Title):\n",
    "    \n",
    "    changes = {'amount' : data}\n",
    "\n",
    "    #Store data and create a blank series to use for the waterfall\n",
    "    trans = pd.DataFrame(data=changes,index=index)\n",
    "    blank = trans.amount.cumsum().shift(1).fillna(0)\n",
    "\n",
    "    #Get the net total number for the final element in the waterfall\n",
    "    total = trans.sum().amount\n",
    "    trans.loc[\"net\"]= total\n",
    "    blank.loc[\"net\"] = total\n",
    "\n",
    "    #The steps graphically show the levels as well as used for label placement\n",
    "    step = blank.reset_index(drop=True).repeat(3).shift(-1)\n",
    "    step[1::3] = np.nan\n",
    "\n",
    "    #When plotting the last element, we want to show the full bar,\n",
    "    #Set the blank to 0\n",
    "    blank.loc[\"net\"] = 0\n",
    "\n",
    "    #Plot and label\n",
    "    my_plot = trans.plot(kind='bar', stacked=True, bottom=blank,legend=None, figsize=(10, 5), title=Title)\n",
    "    #my_plot.plot(step.index, step.values,'k') #this makes the blank lines\n",
    "    my_plot.set_xlabel(\"Transaction Types\")\n",
    "\n",
    "    #Get the y-axis position for the labels\n",
    "    y_height = trans.amount.cumsum().shift(1).fillna(0)\n",
    "\n",
    "    #Get an offset so labels don't sit right on top of the bar\n",
    "    max = trans.max()\n",
    "    neg_offset = max / 25\n",
    "    pos_offset = max / 50\n",
    "    plot_offset = int(max / 15)\n",
    "\n",
    "    #Start label loop\n",
    "    loop = 0\n",
    "    for index, row in trans.iterrows():\n",
    "        # For the last item in the list, we don't want to double count\n",
    "        if row['amount'] == total:\n",
    "            y = y_height[loop]\n",
    "        else:\n",
    "            y = y_height[loop] + row['amount']\n",
    "        # Determine if we want a neg or pos offset\n",
    "        if row['amount'] > 0:\n",
    "            y += pos_offset\n",
    "        else:\n",
    "            y -= neg_offset\n",
    "        my_plot.annotate(\"{:,.0f}\".format(row['amount']),(loop,y),ha=\"center\")\n",
    "        loop+=1\n",
    "\n",
    "    #Scale up the y axis so there is room for the labels\n",
    "    my_plot.set_ylim(0,blank.max()+int(plot_offset))\n",
    "    #Rotate the labels\n",
    "    my_plot.set_xticklabels(trans.index,rotation=0)\n",
    "    my_plot.get_figure().savefig(\"waterfall_%s.png\" % Title.replace(\" \", \"-\"),dpi=600,bbox_inches='tight')"
   ]
  },
  {
   "cell_type": "code",
   "execution_count": 159,
   "metadata": {
    "collapsed": true
   },
   "outputs": [],
   "source": [
    "def waterfall_money(index, data, Title, currency_symbol=\"$\"):\n",
    "    \n",
    "    money_format = \"{:,.0f} \" + currency_symbol\n",
    "    \n",
    "    def money(x, pos):\n",
    "        'The two args are the value and tick position'\n",
    "        return money_format.format(x)\n",
    "    formatter = FuncFormatter(money)\n",
    "    \n",
    "    changes = {'amount' : data}\n",
    "\n",
    "    #Store data and create a blank series to use for the waterfall\n",
    "    trans = pd.DataFrame(data=changes,index=index)\n",
    "    blank = trans.amount.cumsum().shift(1).fillna(0)\n",
    "\n",
    "    #Get the net total number for the final element in the waterfall\n",
    "    total = trans.sum().amount\n",
    "    trans.loc[\"net\"]= total\n",
    "    blank.loc[\"net\"] = total\n",
    "\n",
    "    #The steps graphically show the levels as well as used for label placement\n",
    "    step = blank.reset_index(drop=True).repeat(3).shift(-1)\n",
    "    step[1::3] = np.nan\n",
    "\n",
    "    #When plotting the last element, we want to show the full bar,\n",
    "    #Set the blank to 0\n",
    "    blank.loc[\"net\"] = 0\n",
    "\n",
    "    #Plot and label\n",
    "    my_plot = trans.plot(kind='bar', stacked=True, bottom=blank,legend=None, figsize=(10, 5), title=Title)\n",
    "    #my_plot.plot(step.index, step.values,'k') #this makes the blank lines\n",
    "    my_plot.set_xlabel(\"Transaction Types\")\n",
    "\n",
    "    #Format the axis for dollars\n",
    "    my_plot.yaxis.set_major_formatter(formatter)\n",
    "\n",
    "    #Get the y-axis position for the labels\n",
    "    y_height = trans.amount.cumsum().shift(1).fillna(0)\n",
    "\n",
    "    #Get an offset so labels don't sit right on top of the bar\n",
    "    max = trans.max()\n",
    "    neg_offset = max / 25\n",
    "    pos_offset = max / 50\n",
    "    plot_offset = int(max / 15)\n",
    "\n",
    "    #Start label loop\n",
    "    loop = 0\n",
    "    for index, row in trans.iterrows():\n",
    "        # For the last item in the list, we don't want to double count\n",
    "        if row['amount'] == total:\n",
    "            y = y_height[loop]\n",
    "        else:\n",
    "            y = y_height[loop] + row['amount']\n",
    "        # Determine if we want a neg or pos offset\n",
    "        if row['amount'] > 0:\n",
    "            y += pos_offset\n",
    "        else:\n",
    "            y -= neg_offset\n",
    "        my_plot.annotate(money_format.format(row['amount']),(loop,y),ha=\"center\")\n",
    "        loop+=1\n",
    "\n",
    "    #Scale up the y axis so there is room for the labels\n",
    "    my_plot.set_ylim(0,blank.max()+int(plot_offset))\n",
    "    #Rotate the labels\n",
    "    my_plot.set_xticklabels(trans.index,rotation=0)\n",
    "    my_plot.get_figure().savefig(\"waterfall_money_%s.png\" % Title.replace(\" \", \"-\"),dpi=600,bbox_inches='tight')"
   ]
  },
  {
   "cell_type": "code",
   "execution_count": 153,
   "metadata": {
    "collapsed": true
   },
   "outputs": [],
   "source": [
    "#Data to plot. Do not include a total, it will be calculated\n",
    "a = ['sales','returns','credit fees','rebates','late charges','shipping']\n",
    "b = [350000,-30000,-7500,-25000,95000,-7000]"
   ]
  },
  {
   "cell_type": "code",
   "execution_count": 100,
   "metadata": {
    "collapsed": true
   },
   "outputs": [],
   "source": [
    "a = ['sales','returns','credit fees','rebates']\n",
    "b = [350000,-30000,-7500,-25000]"
   ]
  },
  {
   "cell_type": "code",
   "execution_count": 101,
   "metadata": {
    "collapsed": true
   },
   "outputs": [],
   "source": [
    "a = ['sales','late charges','shipping']\n",
    "b = [350000,95000,-7000]"
   ]
  },
  {
   "cell_type": "code",
   "execution_count": 161,
   "metadata": {},
   "outputs": [
    {
     "data": {
      "image/png": "[encoded data removed]",
      "text/plain": [
       "<matplotlib.figure.Figure at 0x1207566d0>"
      ]
     },
     "metadata": {},
     "output_type": "display_data"
    }
   ],
   "source": [
    "waterfall_money(a, b, \"test waterfall\", \"USD\")"
   ]
  },
  {
   "cell_type": "code",
   "execution_count": 149,
   "metadata": {},
   "outputs": [
    {
     "data": {
      "image/png": "[encoded data removed]",
      "text/plain": [
       "<matplotlib.figure.Figure at 0x116581710>"
      ]
     },
     "metadata": {},
     "output_type": "display_data"
    }
   ],
   "source": [
    "waterfall(a,b,\"no money\")"
   ]
  },
  {
   "cell_type": "code",
   "execution_count": null,
   "metadata": {
    "collapsed": true
   },
   "outputs": [],
   "source": []
  }
 ],
 "metadata": {
  "kernelspec": {
   "display_name": "Python 2",
   "language": "python",
   "name": "python2"
  },
  "language_info": {
   "codemirror_mode": {
    "name": "ipython",
    "version": 2
   },
   "file_extension": ".py",
   "mimetype": "text/x-python",
   "name": "python",
   "nbconvert_exporter": "python",
   "pygments_lexer": "ipython2",
   "version": "2.7.13"
  }
 },
 "nbformat": 4,
 "nbformat_minor": 2
}
